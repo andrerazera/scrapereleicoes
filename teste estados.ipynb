{
 "cells": [
  {
   "cell_type": "code",
   "execution_count": null,
   "metadata": {},
   "outputs": [],
   "source": [
    "import requests\n",
    "import json\n",
    "import pandas as pd\n",
    "from datetime import datetime\n",
    "from time import sleep"
   ]
  },
  {
   "cell_type": "code",
   "execution_count": null,
   "metadata": {},
   "outputs": [],
   "source": [
    "estados = pd.read_excel(\"estados.xlsx\")\n",
    "estados.SiglaEstado = estados.SiglaEstado.str.lower()"
   ]
  },
  {
   "cell_type": "code",
   "execution_count": null,
   "metadata": {},
   "outputs": [],
   "source": [
    "estado = 'sc'"
   ]
  },
  {
   "cell_type": "code",
   "execution_count": null,
   "metadata": {},
   "outputs": [],
   "source": [
    "# arquivo tipo estado\n",
    "# obs campos\n",
    "# https://www.tse.jus.br/++theme++justica_eleitoral/pdfjs/web/viewer.html?file=https://www.tse.jus.br/eleicoes/eleicoes-2022/arquivos/interessados/ea15-arquivo-de-acompanhamento-uf-1653934878111/@@download/file/TSE-EA15-Arquivo-de-acompanhamento-UF.pdf\n",
    "\n"
   ]
  },
  {
   "cell_type": "code",
   "execution_count": null,
   "metadata": {},
   "outputs": [],
   "source": [
    "\n"
   ]
  },
  {
   "cell_type": "code",
   "execution_count": 123,
   "metadata": {},
   "outputs": [
    {
     "name": "stdout",
     "output_type": "stream",
     "text": [
      "baseuf/baseuf_27_10_2022-23h59m41s ac.csv gerado\n",
      "baseuf/baseuf_27_10_2022-23h59m41s al.csv gerado\n",
      "baseuf/baseuf_27_10_2022-23h59m41s ap.csv gerado\n",
      "baseuf/baseuf_27_10_2022-23h59m41s am.csv gerado\n",
      "baseuf/baseuf_27_10_2022-23h59m41s ba.csv gerado\n",
      "baseuf/baseuf_27_10_2022-23h59m41s ce.csv gerado\n",
      "baseuf/baseuf_27_10_2022-23h59m41s df.csv gerado\n",
      "baseuf/baseuf_27_10_2022-23h59m42s es.csv gerado\n",
      "baseuf/baseuf_27_10_2022-23h59m42s go.csv gerado\n",
      "baseuf/baseuf_27_10_2022-23h59m42s ma.csv gerado\n",
      "baseuf/baseuf_27_10_2022-23h59m42s mt.csv gerado\n",
      "baseuf/baseuf_27_10_2022-23h59m42s ms.csv gerado\n",
      "baseuf/baseuf_27_10_2022-23h59m42s mg.csv gerado\n",
      "baseuf/baseuf_27_10_2022-23h59m42s pa.csv gerado\n",
      "baseuf/baseuf_27_10_2022-23h59m42s pb.csv gerado\n",
      "baseuf/baseuf_27_10_2022-23h59m43s pr.csv gerado\n",
      "baseuf/baseuf_27_10_2022-23h59m43s pe.csv gerado\n",
      "baseuf/baseuf_27_10_2022-23h59m43s pi.csv gerado\n",
      "baseuf/baseuf_27_10_2022-23h59m43s rj.csv gerado\n",
      "baseuf/baseuf_27_10_2022-23h59m43s rn.csv gerado\n",
      "baseuf/baseuf_27_10_2022-23h59m43s rs.csv gerado\n",
      "baseuf/baseuf_27_10_2022-23h59m43s ro.csv gerado\n",
      "baseuf/baseuf_27_10_2022-23h59m43s rr.csv gerado\n",
      "baseuf/baseuf_27_10_2022-23h59m44s sc.csv gerado\n",
      "baseuf/baseuf_27_10_2022-23h59m44s sp.csv gerado\n",
      "baseuf/baseuf_27_10_2022-23h59m44s se.csv gerado\n",
      "baseuf/baseuf_27_10_2022-23h59m44s to.csv gerado\n"
     ]
    }
   ],
   "source": [
    "# estado = 'sc'\n",
    "\n",
    "\n",
    "for estado in estados.SiglaEstado:\n",
    "\n",
    "        data = requests.get(\n",
    "                'https://resultados.tse.jus.br/oficial/ele2022/544/dados/'+estado+'/'+estado+'-c0001-e000544-v.json'\n",
    "        )\n",
    "\n",
    "        json_data = json.loads(data.content)\n",
    "\n",
    "        lista = []\n",
    "\n",
    "        for dic in json_data['abr'][0]['cand']:\n",
    "                if dic['seq'] in ['1','2']:\n",
    "                        lista.append(dic)\n",
    "\n",
    "        timestamp = datetime.now().strftime('%d_%m_%Y-%Hh%Mm%Ss')   \n",
    "\n",
    "        df = pd.DataFrame(lista)\n",
    "        df['timestamp'] = timestamp\n",
    "        df['votos_apurados'] = json_data['abr'][0]['pea']\n",
    "        df['UF'] = json_data['abr'][0]['cdabr']\n",
    "\n",
    "        # df.to_csv(\"baseuf/baseuf_\"+timestamp+\" \"+estado+\".csv\")\n",
    "        df2 = pd.concat([df2,df])\n",
    "\n",
    "df2.to_csv(\"baseuf/baseuf_\"+timestamp+\" \"+\"Estados\"+\".csv\", sep=\";\")\n",
    "print(\"baseuf/baseuf_\"+timestamp+\" \"+\"Estados\"+\".csv GERADO\")\n"
   ]
  },
  {
   "cell_type": "code",
   "execution_count": null,
   "metadata": {},
   "outputs": [],
   "source": []
  }
 ],
 "metadata": {
  "kernelspec": {
   "display_name": "Python 3.9.12 ('base')",
   "language": "python",
   "name": "python3"
  },
  "language_info": {
   "codemirror_mode": {
    "name": "ipython",
    "version": 3
   },
   "file_extension": ".py",
   "mimetype": "text/x-python",
   "name": "python",
   "nbconvert_exporter": "python",
   "pygments_lexer": "ipython3",
   "version": "3.9.12"
  },
  "orig_nbformat": 4,
  "vscode": {
   "interpreter": {
    "hash": "f08154012ddadd8e950e6e9e035c7a7b32c136e7647e9b7c77e02eb723a8bedb"
   }
  }
 },
 "nbformat": 4,
 "nbformat_minor": 2
}
